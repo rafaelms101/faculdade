{
 "cells": [
  {
   "cell_type": "markdown",
   "metadata": {},
   "source": [
    "# TP2: Classificação de Imagens com Banco de Filtros \n",
    "\n",
    "<b>Alunos</b>: Rafael Gurgel + Rafael Martins de Souza<br>\n",
    "               \n",
    "\n",
    "Neste trabalho iremos classificar dígitos da base de dados MNIST, formada por um conjunto de imagens 28x28 contendo dígitos manuscritos. Em particular, desenvolvemos um classificador que é capaz de distinguir o número 3 do número 8.   "
   ]
  },
  {
   "cell_type": "markdown",
   "metadata": {},
   "source": [
    "# Imports"
   ]
  },
  {
   "cell_type": "code",
   "execution_count": 38,
   "metadata": {},
   "outputs": [],
   "source": [
    "%matplotlib inline \n",
    "\n",
    "import numpy as np\n",
    "import os\n",
    "from matplotlib import pyplot as plt\n",
    "from sklearn.model_selection import KFold\n",
    "import skimage.io as io"
   ]
  },
  {
   "cell_type": "markdown",
   "metadata": {},
   "source": [
    "# Carregando as imagens"
   ]
  },
  {
   "cell_type": "code",
   "execution_count": 96,
   "metadata": {},
   "outputs": [
    {
     "name": "stderr",
     "output_type": "stream",
     "text": [
      "/home/rafael/Apps/anaconda3/lib/python3.6/site-packages/skimage/transform/_warps.py:84: UserWarning: The default mode, 'constant', will be changed to 'reflect' in skimage 0.15.\n",
      "  warn(\"The default mode, 'constant', will be changed to 'reflect' in \"\n"
     ]
    }
   ],
   "source": [
    "import random\n",
    "from skimage.transform import resize\n",
    "\n",
    "imgs = []\n",
    "\n",
    "for i in [3, 8]:\n",
    "    for fn in os.listdir('MNIST/' + str(i)):\n",
    "        img = io.imread('MNIST/%d/%s' % (i, fn), dtype=np.float64)\n",
    "        img = resize(img, (29, 29))\n",
    "        img = img / 255\n",
    "        imgs.append((img, 1 if i == 8 else 0))\n",
    "\n",
    "random.shuffle(imgs)"
   ]
  },
  {
   "cell_type": "markdown",
   "metadata": {},
   "source": [
    "O código acima carrega o dataset em uma lista <b>imgs</b>. \n",
    "\n",
    "Realizamos certas transformações nas imagens para facilitar os próximos passos. \n",
    "Em particular, transformamos a imagem de 28x28 para 29x29 e a normalizamos, fazendo com que os valores de cada pixel fiquem entre 0 e 1.\n",
    "\n",
    "Ao final, as imagens são randomizadas."
   ]
  },
  {
   "cell_type": "markdown",
   "metadata": {},
   "source": [
    "# Classificador"
   ]
  },
  {
   "cell_type": "code",
   "execution_count": 59,
   "metadata": {},
   "outputs": [],
   "source": [
    "def predict(img, model):\n",
    "    F1, F2, w = model\n",
    "    M2 = correlate(img, F1, mode='valid')\n",
    "    v1 = correlate(M2, F2, mode='valid')[0][0]\n",
    "    v2 = v1 * w[0]\n",
    "    r = expit(v2)\n",
    "    return 1 if r > 0.5 else 0"
   ]
  },
  {
   "cell_type": "markdown",
   "metadata": {},
   "source": [
    "O classificador funciona de maneira bem simples. A imagem <b>img</b> passada como parâmetro, de tamanho 29x29 passa por um filtro 15x15 <b>F1</b>, resultando em uma imagem 15x15. Por sua vez, essa imagem obtida passa por um outro filtro 15x15 <b>F2</b>, resultando em um valor <b>v1</b>. Ele é multiplicado por um peso <b>w[0]</b> e aplicado a função sigmoid (<b>expit</b>). Caso o resultado obtido seja maior que 0.5, o número será classificado como 8. Caso contrário, será classificado como 3."
   ]
  },
  {
   "cell_type": "code",
   "execution_count": 101,
   "metadata": {},
   "outputs": [],
   "source": [
    "from IPython.display import clear_output\n",
    "\n",
    "def train_dataset(imgs):\n",
    "    F1 = (np.random.rand(15,15) - 0.5) * 0.1\n",
    "    F2 = (np.random.rand(15,15) - 0.5) * 0.1\n",
    "    w = (np.random.rand(1) - 0.5) * 0.1\n",
    "    correct = 0\n",
    "    \n",
    "    for i, (img, cls) in enumerate(imgs):\n",
    "        pred = train_step(img, F1, F2, w, cls, 0.1)\n",
    "        if pred == cls:\n",
    "            correct += 1\n",
    "        \n",
    "        clear_output(wait=True)\n",
    "        print(\"%d/%d => %.1f%%\" % (i+1, len(imgs), 100 * correct / (i+1)))\n",
    "        \n",
    "    return (F1, F2, w)"
   ]
  },
  {
   "cell_type": "markdown",
   "metadata": {},
   "source": [
    "A função acima inicializa um modelo aleatório e o treina. Os filtros <b>F1</b>, <b>F2</b> e o peso <b>w[0]</b> são inicializados com valores aleatórios entre -0.05 e 0.05. Ela retorna os filtros e pesos otimizados. \n",
    "\n",
    "Estamos utilizando como método de otimização o Stochastic Gradient Descent (SGD) com batches de tamanho 1. Para cada imagem, realizamos um passo do SGD, que é representado pela função <b>train_step</b>, que é definida abaixo: "
   ]
  },
  {
   "cell_type": "code",
   "execution_count": 110,
   "metadata": {},
   "outputs": [],
   "source": [
    "import math\n",
    "from scipy.special import expit\n",
    "from scipy.signal import correlate\n",
    "\n",
    "def grad_F1(M1, gM2):\n",
    "    return correlate(M1, gM2)\n",
    "\n",
    "def grad_M2(dE_dv1, F2):\n",
    "    return dE_dv1 * F2\n",
    "\n",
    "def grad_F2(dE_dv1, M2):\n",
    "    return dE_dv1 * M2\n",
    "    \n",
    "def train_step(M1, F1, F2, w, C, lr):\n",
    "    M2 = correlate(M1, F1, mode='valid')\n",
    "    v1 = correlate(M2, F2, mode='valid')[0][0]\n",
    "    v2 = v1 * w[0]\n",
    "    r = expit(v2)\n",
    "    \n",
    "    E = (r - C)**2\n",
    "    \n",
    "    dE_dv2 = (r - C) * r * (1 - r)\n",
    "    dE_dw = dE_dv2 * v1\n",
    "    dE_dv1 = dE_dv2 * w[0]\n",
    "    \n",
    "    gF2 = grad_F2(dE_dv1, M2)\n",
    "    gM2 = grad_M2(dE_dv1, F2)\n",
    "    gF1 = grad_F1(M1, gM2)\n",
    "    \n",
    "    w[0] -= lr * dE_dw\n",
    " \n",
    "    for i in np.ndindex(F1.shape):\n",
    "        F1[i] -= lr * gF1[i]\n",
    "        \n",
    "    for i in np.ndindex(F2.shape):\n",
    "        F2[i] -= lr * gF2[i]\n",
    "        \n",
    "    return 1 if r > 0.5 else 0"
   ]
  },
  {
   "cell_type": "markdown",
   "metadata": {},
   "source": [
    "A função <b>train_step</b> realiza um passo do SGD. Ela recebe, como parâmetros, uma matriz 29x29 <b>M1</b>, que representa uma imagem, dois filtros 15x15 (<b>F1</b> e <b>F2</b>), um peso <b>w</b>, a classe da imagem <b>C</b> (que é 1 se a imagem representar um 8, e 0 se representar um 3) e a taxa de aprendizado <b>lr</b>.  \n",
    "\n",
    "No corpo da função, primeiramente tentamos classificar a imagem como 8 ou 3, de maneira similar a função <b>predict</b>. Obtemos como resultado <b>r</b>. Quanto mais perto <b>r</b> estiver de 1, mais confiante o classificador está de que a imagem representa o número 8, e, de maneira análoga, quanto mais perto de 0, mais confiante ele está de que a imagem representa o número 3.  \n",
    "\n",
    "Uma vez que temos a predição do classificador, computamos o seu erro <b>E</b>: \n",
    "\n",
    "$E = (r - C)^2$. \n",
    "\n",
    "Queremos minimizar esse erro. Para tanto, calculamos o gradiente do erro <b>E</b> com relação aos diversos parâmetros do modelo - em particular, <b>w[0]</b> e as células de <b>F1</b> e <b>F2</b>. Os gradientes do erro com relação aos parâmetros do modelo estão armazenados nas variáveis <b>dE_dw</b>, <b>gF1</b> e <b>gF2</b>, respectivamente. Uma vez obtidos os gradientes, multiplicamos eles pela taxa de aprendizado <b>lr</b> e os subtraímos dos parâmetros. "
   ]
  },
  {
   "cell_type": "markdown",
   "metadata": {},
   "source": [
    "# Testes\n",
    "\n",
    "Utilizaremos 80% das imagens como treino e 20% como validação. A acurácia será medida através da expressão:\n",
    "\n",
    "$\\frac{TP + TN}{TP + FN + FP + TN}$\n",
    "\n",
    "onde\n",
    "\n",
    "TP = True Positive<br/>\n",
    "TN = True Negative<br/>\n",
    "FN = False Negative<br/>\n",
    "TN = True Negative<br/>\n",
    "\n",
    "Iremos considerar o valor 8 (classe 1) como positive, e o valor 3 (classe 0) como negative."
   ]
  },
  {
   "cell_type": "code",
   "execution_count": 256,
   "metadata": {},
   "outputs": [
    {
     "name": "stdout",
     "output_type": "stream",
     "text": [
      "Acurácia no teste: 92.4%\n"
     ]
    }
   ],
   "source": [
    "from IPython.display import clear_output\n",
    "\n",
    "train_size = int(0.8 * len(imgs))\n",
    "train = imgs[:train_size]\n",
    "test = imgs[train_size:]\n",
    "\n",
    "model = train_dataset(train)\n",
    "correct = 0\n",
    "\n",
    "for i, (img, cls) in enumerate(test):\n",
    "    pred = predict(img, model)\n",
    "    if pred == cls: correct += 1\n",
    "    clear_output(wait=True)\n",
    "    print(\"Validando: %d/%d\\n\" % (i+1, len(test)))\n",
    "    \n",
    "clear_output(wait=True)\n",
    "print(\"Acurácia no teste: %.1f%%\" % (100 * correct / len(test)))"
   ]
  }
 ],
 "metadata": {
  "kernelspec": {
   "display_name": "Python 3",
   "language": "python",
   "name": "python3"
  },
  "language_info": {
   "codemirror_mode": {
    "name": "ipython",
    "version": 3
   },
   "file_extension": ".py",
   "mimetype": "text/x-python",
   "name": "python",
   "nbconvert_exporter": "python",
   "pygments_lexer": "ipython3",
   "version": "3.6.5"
  }
 },
 "nbformat": 4,
 "nbformat_minor": 2
}
