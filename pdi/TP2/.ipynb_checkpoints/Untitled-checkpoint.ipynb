{
 "cells": [
  {
   "cell_type": "code",
   "execution_count": 1,
   "metadata": {},
   "outputs": [],
   "source": [
    "%matplotlib inline \n",
    "\n",
    "import numpy as np\n",
    "import os\n",
    "from matplotlib import pyplot as plt\n",
    "\n",
    "#loading the images\n",
    "import skimage.io as io\n",
    "\n"
   ]
  },
  {
   "cell_type": "code",
   "execution_count": 49,
   "metadata": {},
   "outputs": [
    {
     "name": "stderr",
     "output_type": "stream",
     "text": [
      "/home/rafael/mestrado/anaconda3/lib/python3.6/site-packages/skimage/transform/_warps.py:84: UserWarning: The default mode, 'constant', will be changed to 'reflect' in skimage 0.15.\n",
      "  warn(\"The default mode, 'constant', will be changed to 'reflect' in \"\n"
     ]
    },
    {
     "name": "stdout",
     "output_type": "stream",
     "text": [
      "4351\n"
     ]
    }
   ],
   "source": [
    "from skimage.transform import resize\n",
    "\n",
    "fns = os.listdir('MNIST/3')\n",
    "\n",
    "imgs = {3: [], 8: []}\n",
    "\n",
    "for i in [3, 8]:\n",
    "    for fn in os.listdir('MNIST/' + str(i)):\n",
    "        img = io.imread('MNIST/%d/%s' % (i, fn), dtype=np.float64)\n",
    "        img = resize(img, (29, 29))\n",
    "        imgs[i].append(img)\n",
    "\n",
    "print(len(fns))"
   ]
  },
  {
   "cell_type": "code",
   "execution_count": 485,
   "metadata": {},
   "outputs": [],
   "source": [
    "import math\n",
    "import scipy.ndimage.filters\n",
    "\n",
    "def convolve(mat, filter): \n",
    "    res = scipy.ndimage.filters.convolve(mat, filter)\n",
    "    (dline, dcol) = (filter.shape[0] - 1) // 2, (filter.shape[1] - 1) // 2\n",
    "    return res[dline : -dline, dcol : -dcol]\n",
    "        \n",
    "def sigmoid(x):\n",
    "    try:\n",
    "        return 1 / (1 + math.exp(-x))\n",
    "    except OverflowError:\n",
    "        return 1.0 if x > 0 else 0.0\n"
   ]
  },
  {
   "cell_type": "code",
   "execution_count": 561,
   "metadata": {},
   "outputs": [],
   "source": [
    "def grad_filter2(result, result_before_sig, correct, mat1, filter2):\n",
    "    a = mat1.copy()\n",
    "    factor = (result - correct) * result * (1 - result)\n",
    "    return a * factor\n",
    "\n",
    "def grad_filter1(): pass\n",
    "\n",
    "def grad_mat2(): pass\n",
    "\n",
    "def train_step(mat, filter1, filter2, correct):\n",
    "    mat_inter = convolve(mat, filter1)\n",
    "    result_before_sig = convolve(mat1, filter2)[0,0]\n",
    "    result = sigmoid(result_before_sig)\n",
    "    \n",
    "    gf2 = grad_filter2(result, result_before_sig, correct, mat2, filter2)\n",
    "    \n",
    "    return result"
   ]
  },
  {
   "cell_type": "code",
   "execution_count": 635,
   "metadata": {},
   "outputs": [
    {
     "name": "stdout",
     "output_type": "stream",
     "text": [
      "1.0\n"
     ]
    }
   ],
   "source": [
    "mat = imgs[3][10]\n",
    "filter1 = np.random.rand(15,15) \n",
    "filter2 = np.random.rand(15,15) * 2 - 1\n",
    "\n",
    "res = epoch(mat, filter1, filter2)\n",
    "print(res)"
   ]
  },
  {
   "cell_type": "code",
   "execution_count": null,
   "metadata": {},
   "outputs": [],
   "source": []
  }
 ],
 "metadata": {
  "kernelspec": {
   "display_name": "Python 3",
   "language": "python",
   "name": "python3"
  },
  "language_info": {
   "codemirror_mode": {
    "name": "ipython",
    "version": 3
   },
   "file_extension": ".py",
   "mimetype": "text/x-python",
   "name": "python",
   "nbconvert_exporter": "python",
   "pygments_lexer": "ipython3",
   "version": "3.6.4"
  }
 },
 "nbformat": 4,
 "nbformat_minor": 2
}
