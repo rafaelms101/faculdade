{
 "cells": [
  {
   "cell_type": "code",
   "execution_count": 1,
   "metadata": {},
   "outputs": [],
   "source": [
    "%matplotlib inline \n",
    "\n",
    "import numpy as np\n",
    "import os\n",
    "from matplotlib import pyplot as plt\n",
    "\n",
    "#loading the images\n",
    "import skimage.io as io\n",
    "\n"
   ]
  },
  {
   "cell_type": "code",
   "execution_count": 27,
   "metadata": {},
   "outputs": [
    {
     "name": "stderr",
     "output_type": "stream",
     "text": [
      "/home/rafael/mestrado/anaconda3/lib/python3.6/site-packages/skimage/transform/_warps.py:84: UserWarning: The default mode, 'constant', will be changed to 'reflect' in skimage 0.15.\n",
      "  warn(\"The default mode, 'constant', will be changed to 'reflect' in \"\n"
     ]
    }
   ],
   "source": [
    "import random\n",
    "from skimage.transform import resize\n",
    "\n",
    "fns = os.listdir('MNIST/3')\n",
    "\n",
    "imgs = []\n",
    "\n",
    "for i in [3, 8]:\n",
    "    for fn in os.listdir('MNIST/' + str(i)):\n",
    "        img = io.imread('MNIST/%d/%s' % (i, fn), dtype=np.float64)\n",
    "        img = resize(img, (29, 29))\n",
    "        img = img / 255\n",
    "        imgs.append((img, i))\n",
    "\n",
    "random.shuffle(imgs)\n",
    "\n",
    "inputs = np.zeros((len(imgs), 29, 29))\n",
    "outputs = np.zeros((len(imgs)))\n",
    "\n",
    "for i, (img, value) in enumerate(imgs):\n",
    "    inputs[i] = img\n",
    "    outputs[i] = 1 if value == 8 else 0\n",
    "    \n",
    "inputs = inputs.reshape(len(inputs), 29, 29, 1)\n"
   ]
  },
  {
   "cell_type": "code",
   "execution_count": 28,
   "metadata": {},
   "outputs": [
    {
     "name": "stdout",
     "output_type": "stream",
     "text": [
      "(8414, 29, 29, 1)\n"
     ]
    }
   ],
   "source": [
    "print(inputs.shape)"
   ]
  },
  {
   "cell_type": "code",
   "execution_count": null,
   "metadata": {},
   "outputs": [],
   "source": [
    "import math\n",
    "import scipy.ndimage.filters\n",
    "\n",
    "def convolve(mat, filter): \n",
    "    res = scipy.ndimage.filters.convolve(mat, filter)\n",
    "    (dline, dcol) = (filter.shape[0] - 1) // 2, (filter.shape[1] - 1) // 2\n",
    "    return res[dline : -dline, dcol : -dcol]\n",
    "        \n",
    "def sigmoid(x):\n",
    "    try:\n",
    "        return 1 / (1 + math.exp(-x))\n",
    "    except OverflowError:\n",
    "        return 1.0 if x > 0 else 0.0"
   ]
  },
  {
   "cell_type": "code",
   "execution_count": null,
   "metadata": {},
   "outputs": [],
   "source": [
    "def grad_filter2(factor, mat_inter):\n",
    "    a = mat_inter.copy()\n",
    "    return a * factor\n",
    "\n",
    "def grad_filter1(mat, ginter): \n",
    "    a = np.zeros(ginter.shape)\n",
    "    \n",
    "    dline, dcol = (a.shape[0] - 1) / 2, (a.shape[1] - 1) / 2\n",
    "    \n",
    "    for w_i in np.ndindex(a.shape): \n",
    "        for i in np.ndindex(a.shape):\n",
    "            original_i = (i[0] + w_i[0], i[1] + w_i[1])\n",
    "            a[w_i] += ginter[i] * mat[original_i]\n",
    "            \n",
    "    return a\n",
    "        \n",
    "def grad_mat_inter(factor, filter2):\n",
    "    a = filter2.copy()\n",
    "    return a * factor\n",
    "\n",
    "def normalize(mat):\n",
    "    return mat / 255.0\n",
    "\n",
    "def train_step(mat, filter1, filter2, correct):\n",
    "    mat_inter = convolve(mat, filter1)\n",
    "    result_before_sig = convolve(mat_inter, filter2)[0,0]\n",
    "    result = sigmoid(result_before_sig)\n",
    "    \n",
    "    print('result_before_sig: ', result_before_sig, 'result:', result, 'correct:', correct)\n",
    "    \n",
    "    factor = (result - correct) * result * (1 - result)\n",
    "    \n",
    "    print('factor: ', factor )\n",
    "    \n",
    "    gf2 = grad_filter2(factor, mat_inter)\n",
    "    ginter = grad_mat_inter(factor, mat_inter)\n",
    "    gf1 = grad_filter1(mat, ginter)\n",
    "    \n",
    "    lr = 0.001\n",
    "    \n",
    "    for i in np.ndindex(filter1.shape): \n",
    "        #print(lr * gf1[i])\n",
    "        filter1[i] -= lr * gf1[i]\n",
    "        filter2[i] -= lr * gf2[i]\n",
    "    \n",
    "    pred = 1 if result > 0.5 else 0\n",
    "    return pred == correct"
   ]
  },
  {
   "cell_type": "code",
   "execution_count": null,
   "metadata": {},
   "outputs": [],
   "source": [
    "from IPython.display import clear_output\n",
    "\n",
    "# mat = imgs[3][10]\n",
    "factor = 0.0001\n",
    "filter1 = np.random.rand(15,15) * factor\n",
    "filter2 = np.random.rand(15,15) * factor\n",
    "\n",
    "(img, number) = imgs[3]\n",
    "\n",
    "for a in range(100):\n",
    "    res = train_step(img, filter1, filter2, 1 if number == 8 else 0)\n",
    "\n",
    "#we are identifying if we obtain an 8\n",
    "# for a in range(100):\n",
    "#     right = 0\n",
    "    \n",
    "#     for (i, (img, number)) in enumerate(imgs):\n",
    "#         res = train_step(img, filter1, filter2, 1 if number == 8 else 0)\n",
    "#         if res: right += 1\n",
    "#         clear_output(wait=True)\n",
    "#         print(i, '=', right / (i+1) * 100)\n",
    "\n"
   ]
  },
  {
   "cell_type": "code",
   "execution_count": 220,
   "metadata": {},
   "outputs": [
    {
     "name": "stdout",
     "output_type": "stream",
     "text": [
      "_________________________________________________________________\n",
      "Layer (type)                 Output Shape              Param #   \n",
      "=================================================================\n",
      "conv2d_66 (Conv2D)           (None, 15, 15, 1)         226       \n",
      "_________________________________________________________________\n",
      "conv2d_67 (Conv2D)           (None, 1, 1, 1)           226       \n",
      "_________________________________________________________________\n",
      "flatten_33 (Flatten)         (None, 1)                 0         \n",
      "_________________________________________________________________\n",
      "dense_34 (Dense)             (None, 1)                 2         \n",
      "=================================================================\n",
      "Total params: 454\n",
      "Trainable params: 454\n",
      "Non-trainable params: 0\n",
      "_________________________________________________________________\n",
      "None\n"
     ]
    },
    {
     "data": {
      "image/png": "[encoded data removed]",
      "text/plain": [
       "<matplotlib.figure.Figure at 0x7ff9f81057b8>"
      ]
     },
     "metadata": {},
     "output_type": "display_data"
    },
    {
     "name": "stdout",
     "output_type": "stream",
     "text": [
      "[array([[1.6225315]], dtype=float32), array([0.], dtype=float32)]\n",
      "Train on 8414 samples, validate on 842 samples\n",
      "Epoch 1/10\n",
      "8414/8414 [==============================] - 3s 382us/step - loss: 0.5610 - acc: 0.7278 - val_loss: 0.3785 - val_acc: 0.9145\n",
      "Epoch 2/10\n",
      "8414/8414 [==============================] - 3s 302us/step - loss: 0.3431 - acc: 0.9395 - val_loss: 0.2889 - val_acc: 0.9442\n",
      "Epoch 3/10\n",
      "8414/8414 [==============================] - 2s 295us/step - loss: 0.2726 - acc: 0.9472 - val_loss: 0.2479 - val_acc: 0.9466\n",
      "Epoch 4/10\n",
      "8414/8414 [==============================] - 3s 323us/step - loss: 0.2314 - acc: 0.9528 - val_loss: 0.2119 - val_acc: 0.9561\n",
      "Epoch 5/10\n",
      "8414/8414 [==============================] - 3s 300us/step - loss: 0.2036 - acc: 0.9565 - val_loss: 0.1900 - val_acc: 0.9561\n",
      "Epoch 6/10\n",
      "8414/8414 [==============================] - 3s 299us/step - loss: 0.1831 - acc: 0.9577 - val_loss: 0.1737 - val_acc: 0.9572\n",
      "Epoch 7/10\n",
      "8414/8414 [==============================] - 3s 320us/step - loss: 0.1674 - acc: 0.9607 - val_loss: 0.1657 - val_acc: 0.9572\n",
      "Epoch 8/10\n",
      "8414/8414 [==============================] - 3s 317us/step - loss: 0.1557 - acc: 0.9635 - val_loss: 0.1513 - val_acc: 0.9572\n",
      "Epoch 9/10\n",
      "8414/8414 [==============================] - 3s 304us/step - loss: 0.1456 - acc: 0.9636 - val_loss: 0.1451 - val_acc: 0.9608\n",
      "Epoch 10/10\n",
      "8414/8414 [==============================] - 3s 306us/step - loss: 0.1356 - acc: 0.9674 - val_loss: 0.1517 - val_acc: 0.9584\n"
     ]
    },
    {
     "data": {
      "image/png": "[encoded data removed]",
      "text/plain": [
       "<matplotlib.figure.Figure at 0x7ff9ec42a0f0>"
      ]
     },
     "metadata": {},
     "output_type": "display_data"
    },
    {
     "name": "stdout",
     "output_type": "stream",
     "text": [
      "[array([[1.830285]], dtype=float32), array([-2.2302725], dtype=float32)]\n"
     ]
    }
   ],
   "source": [
    "import keras\n",
    "\n",
    "from keras.models import Sequential\n",
    "from keras.layers import Dense, Activation, Conv2D, MaxPooling2D, Flatten\n",
    "\n",
    "model = Sequential()\n",
    "\n",
    "firstFilter = Conv2D(1, kernel_size=(15, 15), activation='relu', input_shape=(29, 29, 1))\n",
    "\n",
    "model.add(firstFilter)\n",
    "\n",
    "secondFilter = Conv2D(1, (15, 15), activation='relu')\n",
    "model.add(secondFilter)\n",
    "\n",
    "model.add(Flatten())\n",
    "model.add(Dense(1, activation='sigmoid'))\n",
    "\n",
    "print(model.summary())\n",
    "\n",
    "model.compile(loss=keras.losses.binary_crossentropy,\n",
    "              optimizer=keras.optimizers.SGD(lr=0.01),\n",
    "              metrics=['accuracy'])\n",
    "\n",
    "train_size = int(len(inputs) * 0.9)\n",
    "train_in = inputs[:train_size]\n",
    "train_out = outputs[:train_size]\n",
    "test_in = inputs[train_size:]\n",
    "test_out = outputs[train_size:]\n",
    "\n",
    "draw_filters(model)\n",
    "\n",
    "model.fit(inputs, outputs,\n",
    "          epochs=10,\n",
    "          verbose=1, \n",
    "          validation_data=(test_in, test_out))\n",
    "\n",
    "draw_filters(model)"
   ]
  },
  {
   "cell_type": "code",
   "execution_count": 135,
   "metadata": {},
   "outputs": [
    {
     "data": {
      "image/png": "[encoded data removed]",
      "text/plain": [
       "<matplotlib.figure.Figure at 0x7ff9bdbbbda0>"
      ]
     },
     "metadata": {},
     "output_type": "display_data"
    },
    {
     "name": "stdout",
     "output_type": "stream",
     "text": [
      "[array([[-1.931569]], dtype=float32), array([2.0552342], dtype=float32)]\n"
     ]
    }
   ],
   "source": [
    "def draw_filters(model):    \n",
    "    plt.subplot(121)\n",
    "    weights = model.layers[0].get_weights()[0]\n",
    "    weights = weights.reshape(15,15)\n",
    "    plt.imshow(weights, cmap=\"gray\")\n",
    "    \n",
    "    plt.subplot(122)\n",
    "    weights = model.layers[1].get_weights()[0]\n",
    "    weights = weights.reshape(15,15)\n",
    "    plt.imshow(weights, cmap=\"gray\")\n",
    "    \n",
    "    plt.show()\n",
    "    \n",
    "    weights = model.layers[3].get_weights()\n",
    "    print(weights)\n",
    "    \n",
    "draw_filters(model)\n"
   ]
  },
  {
   "cell_type": "code",
   "execution_count": 201,
   "metadata": {},
   "outputs": [
    {
     "data": {
      "image/png": "[encoded data removed]",
      "text/plain": [
       "<matplotlib.figure.Figure at 0x7ff9bde43198>"
      ]
     },
     "metadata": {},
     "output_type": "display_data"
    },
    {
     "name": "stdout",
     "output_type": "stream",
     "text": [
      "1/1 [==============================] - 0s 1ms/step\n",
      "Predict: 0.88647544\n",
      "(29, 29)\n",
      "Before last layer: 1.8052598353147828\n",
      "Before sigma: -1.4317497053237687\n",
      "After sigma: 0.1928262062646259\n"
     ]
    }
   ],
   "source": [
    "import scipy.ndimage.filters\n",
    "\n",
    "from scipy.special import expit\n",
    "\n",
    "def relu(mat):\n",
    "    mat[mat < 0] = 0\n",
    "\n",
    "id = 16\n",
    "\n",
    "img = inputs[id].reshape(29,29)\n",
    "plt.imshow(img, cmap=\"gray\")\n",
    "plt.show()\n",
    "\n",
    "res = model.predict(inputs[id:id+1], verbose=1)[0][0]\n",
    "print(\"Predict:\", res)\n",
    "\n",
    "img = inputs[id:id+1].reshape(29,29)\n",
    "print(img.shape)\n",
    "\n",
    "filter1 = model.layers[0].get_weights()[0].reshape(15,15)\n",
    "filter2 = model.layers[1].get_weights()[0].reshape(15,15)\n",
    "\n",
    "res = scipy.ndimage.filters.convolve(img, filter1)[7:22, 7:22]\n",
    "relu(res)\n",
    "res = scipy.ndimage.filters.convolve(res, filter2)[7:8, 7:8]\n",
    "relu(res)\n",
    "res = res[0,0]\n",
    "print(\"Before last layer:\", res)\n",
    "\n",
    "weights = model.layers[3].get_weights()\n",
    "coeff = weights[0][0,0]\n",
    "bias = weights[1][0]\n",
    "\n",
    "res = coeff * res + bias\n",
    "print(\"Before sigma:\", res)\n",
    "res = expit(res)\n",
    "print(\"After sigma:\", res)"
   ]
  },
  {
   "cell_type": "code",
   "execution_count": 269,
   "metadata": {},
   "outputs": [
    {
     "name": "stdout",
     "output_type": "stream",
     "text": [
      "0.097064756\n"
     ]
    },
    {
     "data": {
      "image/png": "[encoded data removed]",
      "text/plain": [
       "<matplotlib.figure.Figure at 0x7ff9bda6e438>"
      ]
     },
     "metadata": {},
     "output_type": "display_data"
    }
   ],
   "source": [
    "from keras.models import Model\n",
    "\n",
    "id=25\n",
    "imgKeras = inputs[id:id+1]\n",
    "#imgKeras = np.ones((1,29,29,1))\n",
    "#print(imgKeras.shape)\n",
    "imgConv = imgKeras.reshape(29,29)\n",
    "\n",
    "res = model.predict(imgKeras)\n",
    "print(res[0][0])\n",
    "\n",
    "plt.subplot(121)\n",
    "plt.imshow(imgConv, cmap=\"gray\")\n",
    "\n",
    "intermediate_layer_model = Model(inputs=firstFilter.input, outputs=firstFilter.output)\n",
    "intermediate_output = intermediate_layer_model.predict(imgKeras).reshape(15,15)\n",
    "\n",
    "plt.subplot(122)\n",
    "plt.imshow(intermediate_output, cmap=\"gray\")\n",
    "plt.show()\n",
    "\n",
    "#print(model.layers[0].get_weights())\n",
    "# filter1 = model.layers[0].get_weights()[0].reshape(15,15)\n",
    "# res = scipy.ndimage.filters.convolve(imgConv, filter1)[7:22, 7:22]\n",
    "# relu(res)\n",
    "# print(res[0])"
   ]
  }
 ],
 "metadata": {
  "kernelspec": {
   "display_name": "Python 3",
   "language": "python",
   "name": "python3"
  },
  "language_info": {
   "codemirror_mode": {
    "name": "ipython",
    "version": 3
   },
   "file_extension": ".py",
   "mimetype": "text/x-python",
   "name": "python",
   "nbconvert_exporter": "python",
   "pygments_lexer": "ipython3",
   "version": "3.6.4"
  }
 },
 "nbformat": 4,
 "nbformat_minor": 2
}
