{
 "cells": [
  {
   "cell_type": "code",
   "execution_count": 1,
   "metadata": {},
   "outputs": [],
   "source": [
    "import numpy as np"
   ]
  },
  {
   "cell_type": "code",
   "execution_count": 2,
   "metadata": {},
   "outputs": [
    {
     "name": "stdout",
     "output_type": "stream",
     "text": [
      "[[3810300591          0        100 ...         21        101         30]\n",
      " [3810300590          0         69 ...         14          7         95]\n",
      " [3810300589          1         41 ...         16         12         87]\n",
      " ...\n",
      " [3809780562          0         86 ...         51          1         12]\n",
      " [3809780560          0         10 ...          5         98         67]\n",
      " [3809780558          0         86 ...         18         16         99]]\n"
     ]
    }
   ],
   "source": [
    "m = np.loadtxt('dota_data.txt', dtype=int)\n",
    "print(m)"
   ]
  },
  {
   "cell_type": "code",
   "execution_count": 14,
   "metadata": {},
   "outputs": [],
   "source": [
    "def compute_synnergy(lines):\n",
    "    matches_pairs = np.zeros((121, 121))\n",
    "    wins_pairs = np.zeros((121, 121)) \n",
    "    wr_pairs = np.zeros((121, 121))\n",
    "\n",
    "    for line in lines:\n",
    "        rad_wins = line[1] == 1\n",
    "        dire_wins = not rad_wins\n",
    "        heroes = line[2:]\n",
    "        rad = heroes[:5]\n",
    "        dire = heroes[5:]\n",
    "\n",
    "        for team in [rad, dire]:\n",
    "            for i in range(5):\n",
    "                hero1 = team[i]\n",
    "                for j in range(5):\n",
    "                    hero2 = team[j]\n",
    "                    matches_pairs[hero1, hero2] += 1\n",
    "\n",
    "                    if rad_wins and hero1 in rad:\n",
    "                        wins_pairs[hero1, hero2] += 1 \n",
    "                    elif dire_wins and hero1 in dire:\n",
    "                        wins_pairs[hero1, hero2] += 1\n",
    "\n",
    "    matches_pairs[matches_pairs == 0] = 1\n",
    "    wr_pairs = wins_pairs / matches_pairs\n",
    "    return wr_pairs"
   ]
  },
  {
   "cell_type": "code",
   "execution_count": 15,
   "metadata": {},
   "outputs": [],
   "source": [
    "def compute_counters(lines):\n",
    "    matches_counter = np.zeros((121, 121))\n",
    "    wins_counter = np.zeros((121, 121)) \n",
    "    wr_counter = np.zeros((121, 121))\n",
    "\n",
    "    for line in lines:\n",
    "        rad_wins = line[1] == 1\n",
    "        dire_wins = not rad_wins\n",
    "        heroes = line[2:]\n",
    "        rad = heroes[:5]\n",
    "        dire = heroes[5:]\n",
    "\n",
    "        #rad first\n",
    "        for hero1 in rad:\n",
    "            for hero2 in dire:\n",
    "                matches_counter[hero1, hero2] += 1\n",
    "                if rad_wins: wins_counter[hero1, hero2] += 1\n",
    "\n",
    "        #dire first\n",
    "        for hero1 in dire:\n",
    "            for hero2 in rad:\n",
    "                matches_counter[hero1, hero2] += 1\n",
    "                if dire_wins: wins_counter[hero1, hero2] += 1\n",
    "\n",
    "\n",
    "    matches_counter[matches_counter == 0] = 1\n",
    "    wr_counter = wins_counter / matches_counter\n",
    "    return wr_counter"
   ]
  },
  {
   "cell_type": "code",
   "execution_count": 16,
   "metadata": {},
   "outputs": [],
   "source": [
    "factor = 0.9\n",
    "train_size = int(len(m) * factor)\n",
    "wr_pairs = compute_synnergy(m[: train_size])\n",
    "wr_counters = compute_counters(m[ : train_size])"
   ]
  },
  {
   "cell_type": "code",
   "execution_count": 6,
   "metadata": {},
   "outputs": [
    {
     "name": "stdout",
     "output_type": "stream",
     "text": [
      "[[0.         0.         0.         ... 0.         0.         0.        ]\n",
      " [0.         0.         0.41973415 ... 0.         0.48491379 0.52463382]\n",
      " [0.         0.58026585 0.         ... 0.         0.52132196 0.54919908]\n",
      " ...\n",
      " [0.         0.         0.         ... 0.         0.         0.        ]\n",
      " [0.         0.51508621 0.47867804 ... 0.         0.         0.53470032]\n",
      " [0.         0.47536618 0.45080092 ... 0.         0.46529968 0.        ]]\n"
     ]
    }
   ],
   "source": [
    "print(wr_counters)"
   ]
  },
  {
   "cell_type": "code",
   "execution_count": 17,
   "metadata": {},
   "outputs": [],
   "source": [
    "def gen_train_test(lines, valp):\n",
    "    feats = 121 + 55\n",
    "    #feats = 10 + 20 + 25\n",
    "    train_size = int(len(lines) * (1 - valp))\n",
    "    test_size = len(lines) - train_size\n",
    "    data = {'train': {}, 'test': {}}\n",
    "    data['train']['in'] = np.zeros((train_size, feats))\n",
    "    data['train']['out'] = np.zeros((train_size), dtype=int)\n",
    "    data['test']['in'] = np.zeros((test_size, feats))\n",
    "    data['test']['out'] = np.zeros((test_size), dtype=int)\n",
    "    data['test']['lines'] = lines[train_size : ]\n",
    "    data['train']['lines'] = lines[ : train_size]\n",
    "\n",
    "    for kind in ['train', 'test']:\n",
    "        for i in range(len(data[kind]['lines'])):\n",
    "            line = data[kind]['lines'][i]\n",
    "            \n",
    "            inputs = data[kind]['in'][i]\n",
    "        \n",
    "            data[kind]['out'][i] = line[1]\n",
    "\n",
    "            heroes = line[2:]\n",
    "            rad = heroes[:5]\n",
    "            dire = heroes[5:]\n",
    "            \n",
    "            for hero in rad:\n",
    "                inputs[hero] = 1\n",
    "\n",
    "            for hero in dire:\n",
    "                inputs[hero] = -1\n",
    "            \n",
    "            counter = 121\n",
    "\n",
    "            for hero_i in range(5):\n",
    "                for hero_j in range(hero_i, 5):\n",
    "                    inputs[counter] = wr_pairs[rad[hero_i], rad[hero_j]]\n",
    "                    counter += 1\n",
    "\n",
    "            for hero_i in range(5):\n",
    "                for hero_j in range(hero_i, 5):\n",
    "                    inputs[counter] = - wr_pairs[dire[hero_i], dire[hero_j]]\n",
    "                    counter += 1\n",
    "\n",
    "            for hero_i in range(5):\n",
    "                for hero_j in range(5):\n",
    "                    inputs[counter] = wr_counters[rad[hero_i], dire[hero_j]]\n",
    "                    counter += 1\n",
    "                    \n",
    "    return data"
   ]
  },
  {
   "cell_type": "code",
   "execution_count": 18,
   "metadata": {},
   "outputs": [
    {
     "name": "stdout",
     "output_type": "stream",
     "text": [
      "[ 0.          0.          0.          0.          0.          0.\n",
      "  0.          0.          0.          0.          0.          0.\n",
      "  0.          0.         -1.          0.          0.          0.\n",
      "  0.          0.          0.          0.         -1.          0.\n",
      "  0.          0.          0.          0.          0.          0.\n",
      "  0.          0.         -1.          0.          0.          1.\n",
      "  0.          0.          0.          0.          0.          0.\n",
      "  0.          0.         -1.          0.          0.          0.\n",
      "  0.          0.          0.          0.          0.          0.\n",
      "  0.          0.          0.          0.          0.          0.\n",
      "  0.          0.          0.          0.          0.          0.\n",
      "  0.          0.          0.          0.          0.          0.\n",
      "  1.          0.          0.          0.          0.          0.\n",
      "  0.          0.          0.          0.          0.          0.\n",
      "  0.          0.          1.          0.          0.          0.\n",
      "  0.          0.          0.          0.          0.          0.\n",
      "  0.          0.         -1.          1.          0.          0.\n",
      "  0.          0.          1.          0.          0.          0.\n",
      "  0.          0.          0.          0.          0.          0.\n",
      "  0.          0.          0.          0.          0.          0.\n",
      "  0.          0.53547247  0.50232952  0.53089598  0.47162162  0.52094496\n",
      "  0.46701604  0.44598099  0.40960285  0.4578702   0.47620397  0.4454004\n",
      "  0.45546397  0.46482308  0.43367043  0.48402901 -0.57475676 -0.58417936\n",
      " -0.60612245 -0.47889908 -0.6785553  -0.51059751 -0.53163136 -0.45436508\n",
      " -0.59675481 -0.52056645 -0.47715736 -0.60650819 -0.44676474 -0.52031455\n",
      " -0.58375619  0.47227533  0.53216067  0.52232216  0.54061372  0.48123547\n",
      "  0.39471058  0.44716913  0.44550099  0.50771056  0.38993964  0.39514652\n",
      "  0.45931818  0.45534023  0.52516619  0.39226519  0.38277512  0.46370781\n",
      "  0.4374844   0.54314721  0.3857868   0.39924552  0.45260283  0.45486354\n",
      "  0.56036636  0.38775024]\n"
     ]
    }
   ],
   "source": [
    "data = gen_train_test(m, 0.1)\n",
    "print(data['train']['in'][3])"
   ]
  },
  {
   "cell_type": "code",
   "execution_count": 21,
   "metadata": {},
   "outputs": [
    {
     "ename": "NameError",
     "evalue": "name 'dropout' is not defined",
     "output_type": "error",
     "traceback": [
      "\u001b[0;31m---------------------------------------------------------------------------\u001b[0m",
      "\u001b[0;31mNameError\u001b[0m                                 Traceback (most recent call last)",
      "\u001b[0;32m<ipython-input-21-44620a2a6bfb>\u001b[0m in \u001b[0;36m<module>\u001b[0;34m()\u001b[0m\n\u001b[1;32m      8\u001b[0m \u001b[0;34m\u001b[0m\u001b[0m\n\u001b[1;32m      9\u001b[0m \u001b[0mmodel\u001b[0m\u001b[0;34m.\u001b[0m\u001b[0madd\u001b[0m\u001b[0;34m(\u001b[0m\u001b[0mDense\u001b[0m\u001b[0;34m(\u001b[0m\u001b[0;36m10000\u001b[0m\u001b[0;34m,\u001b[0m \u001b[0mactivation\u001b[0m\u001b[0;34m=\u001b[0m\u001b[0;34m'relu'\u001b[0m\u001b[0;34m,\u001b[0m \u001b[0minput_dim\u001b[0m\u001b[0;34m=\u001b[0m\u001b[0mlen\u001b[0m\u001b[0;34m(\u001b[0m\u001b[0mdata\u001b[0m\u001b[0;34m[\u001b[0m\u001b[0;34m'train'\u001b[0m\u001b[0;34m]\u001b[0m\u001b[0;34m[\u001b[0m\u001b[0;34m'in'\u001b[0m\u001b[0;34m]\u001b[0m\u001b[0;34m[\u001b[0m\u001b[0;36m0\u001b[0m\u001b[0;34m]\u001b[0m\u001b[0;34m)\u001b[0m\u001b[0;34m)\u001b[0m\u001b[0;34m)\u001b[0m\u001b[0;34m\u001b[0m\u001b[0m\n\u001b[0;32m---> 10\u001b[0;31m \u001b[0mdropout\u001b[0m\u001b[0;34m(\u001b[0m\u001b[0;36m0.5\u001b[0m\u001b[0;34m)\u001b[0m\u001b[0;34m\u001b[0m\u001b[0m\n\u001b[0m\u001b[1;32m     11\u001b[0m \u001b[0mmodel\u001b[0m\u001b[0;34m.\u001b[0m\u001b[0madd\u001b[0m\u001b[0;34m(\u001b[0m\u001b[0mDense\u001b[0m\u001b[0;34m(\u001b[0m\u001b[0;36m10000\u001b[0m\u001b[0;34m,\u001b[0m \u001b[0mactivation\u001b[0m\u001b[0;34m=\u001b[0m\u001b[0;34m'relu'\u001b[0m\u001b[0;34m)\u001b[0m\u001b[0;34m)\u001b[0m\u001b[0;34m\u001b[0m\u001b[0m\n\u001b[1;32m     12\u001b[0m \u001b[0mdropout\u001b[0m\u001b[0;34m(\u001b[0m\u001b[0;36m0.5\u001b[0m\u001b[0;34m)\u001b[0m\u001b[0;34m\u001b[0m\u001b[0m\n",
      "\u001b[0;31mNameError\u001b[0m: name 'dropout' is not defined"
     ]
    }
   ],
   "source": [
    "import keras\n",
    "from keras.models import Sequential\n",
    "from keras.layers import Dense, Dropout, Activation\n",
    "from keras.optimizers import SGD, Adagrad, Adam\n",
    "from keras import regularizers\n",
    "\n",
    "model = Sequential()\n",
    "\n",
    "model.add(Dense(10000, activation='relu', input_dim=len(data['train']['in'][0])))\n",
    "model.add(Dropout(0.5))\n",
    "model.add(Dense(10000, activation='relu'))\n",
    "model.add(Dropout(0.5))\n",
    "model.add(Dense(100, activation='relu'))\n",
    "model.add(Dropout(0.5))\n",
    "model.add(Dense(100, activation='relu'))\n",
    "model.add(Dropout(0.5))\n",
    "model.add(Dense(1, activation='sigmoid'))\n",
    "\n",
    "sgd = SGD(lr=0.05)\n",
    "model.compile(loss='binary_crossentropy',\n",
    "              optimizer=Adam(lr=0.0001, beta_1=0.9, beta_2=0.999, epsilon=None, decay=0.0, amsgrad=False),\n",
    "              #optimizer='adadelta',\n",
    "              #optimizer=sgd,\n",
    "              metrics=['binary_accuracy'])\n",
    "\n",
    "model.fit(data['train']['in'], data['train']['out'],\n",
    "          epochs=100,\n",
    "          validation_data=(data['test']['in'], data['test']['out']))\n",
    "\n",
    "result = model.evaluate(data['test']['in'], data['test']['out'])\n",
    "\n",
    "print(result[1])"
   ]
  },
  {
   "cell_type": "code",
   "execution_count": 12,
   "metadata": {},
   "outputs": [],
   "source": [
    "from sklearn.ensemble import RandomForestClassifier\n",
    "\n",
    "clf = RandomForestClassifier(n_estimators=100, max_features=11, min_samples_split=2, max_depth=None, n_jobs=8)\n",
    "clf = clf.fit(data['train']['in'], data['train']['out'])\n",
    "clf_forest = clf"
   ]
  },
  {
   "cell_type": "code",
   "execution_count": 10,
   "metadata": {},
   "outputs": [],
   "source": [
    "from sklearn.linear_model import LogisticRegression\n",
    "\n",
    "clf = LogisticRegression()\n",
    "clf = clf.fit(data['train']['in'], data['train']['out'])\n",
    "clf_log = clf"
   ]
  },
  {
   "cell_type": "code",
   "execution_count": null,
   "metadata": {},
   "outputs": [],
   "source": [
    "from sklearn import neighbors\n",
    "\n",
    "clf = neighbors.KNeighborsClassifier(5, weights='uniform')\n",
    "clf = clf.fit(data['train']['in'], data['train']['out'])"
   ]
  },
  {
   "cell_type": "code",
   "execution_count": null,
   "metadata": {},
   "outputs": [],
   "source": [
    "print()\n",
    "# from sklearn import svm\n",
    "# clf = svm.SVC()\n",
    "# clf.fit(data['train']['in'], data['train']['out'])  "
   ]
  },
  {
   "cell_type": "code",
   "execution_count": null,
   "metadata": {},
   "outputs": [],
   "source": [
    "from sklearn.ensemble import AdaBoostClassifier\n",
    "clf = AdaBoostClassifier(n_estimators=10000)\n",
    "clf = clf.fit(data['train']['in'], data['train']['out'])"
   ]
  },
  {
   "cell_type": "code",
   "execution_count": null,
   "metadata": {},
   "outputs": [],
   "source": [
    "from sklearn.naive_bayes import GaussianNB\n",
    "clf = GaussianNB()\n",
    "clf = clf.fit(data['train']['in'], data['train']['out'])\n",
    "clf_naive = clf"
   ]
  },
  {
   "cell_type": "code",
   "execution_count": null,
   "metadata": {},
   "outputs": [],
   "source": [
    "from sklearn.ensemble import GradientBoostingClassifier\n",
    "clf = GradientBoostingClassifier(n_estimators=2000, learning_rate=1.0, max_depth=1, random_state=0)\n",
    "clf = clf.fit(data['train']['in'], data['train']['out'])"
   ]
  },
  {
   "cell_type": "code",
   "execution_count": null,
   "metadata": {},
   "outputs": [],
   "source": [
    "from sklearn.ensemble import BaggingClassifier\n",
    "from sklearn.neighbors import KNeighborsClassifier\n",
    "from sklearn.linear_model import LogisticRegression\n",
    "\n",
    "clf = BaggingClassifier(LogisticRegression(),\n",
    "                             max_samples=0.5, max_features=0.5)\n",
    "clf = clf.fit(data['train']['in'], data['train']['out'])"
   ]
  },
  {
   "cell_type": "code",
   "execution_count": null,
   "metadata": {},
   "outputs": [],
   "source": [
    "from sklearn.ensemble import VotingClassifier\n",
    "\n",
    "clf = VotingClassifier(estimators=[('for', clf_forest), ('naive', clf_naive), ('log', clf_log)], voting='soft', weights=[1,2,2])\n",
    "clf = clf.fit(data['train']['in'], data['train']['out'])"
   ]
  },
  {
   "cell_type": "code",
   "execution_count": 13,
   "metadata": {},
   "outputs": [
    {
     "name": "stdout",
     "output_type": "stream",
     "text": [
      "0.5877466830192887\n"
     ]
    }
   ],
   "source": [
    "#print('oi')\n",
    "model = clf\n",
    "preds = model.predict(data['test']['in'])\n",
    "correct = data['test']['out']\n",
    "\n",
    "eq = 0\n",
    "\n",
    "wrong = []\n",
    "\n",
    "for i in range(len(preds)):\n",
    "    if correct[i] == preds[i]:\n",
    "        eq += 1\n",
    "    else:\n",
    "        wrong.append(i)\n",
    "        \n",
    "print(eq / len(preds))"
   ]
  },
  {
   "cell_type": "code",
   "execution_count": null,
   "metadata": {},
   "outputs": [],
   "source": [
    "wrong_forest = wrong"
   ]
  },
  {
   "cell_type": "code",
   "execution_count": null,
   "metadata": {},
   "outputs": [],
   "source": [
    "print(wrong_log)\n",
    "print(wrong_naive)\n",
    "print(wrong_forest)"
   ]
  }
 ],
 "metadata": {
  "kernelspec": {
   "display_name": "Python 3",
   "language": "python",
   "name": "python3"
  },
  "language_info": {
   "codemirror_mode": {
    "name": "ipython",
    "version": 3
   },
   "file_extension": ".py",
   "mimetype": "text/x-python",
   "name": "python",
   "nbconvert_exporter": "python",
   "pygments_lexer": "ipython3",
   "version": "3.6.5"
  }
 },
 "nbformat": 4,
 "nbformat_minor": 2
}
