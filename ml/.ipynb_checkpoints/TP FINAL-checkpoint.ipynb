{
 "cells": [
  {
   "cell_type": "code",
   "execution_count": 1,
   "metadata": {},
   "outputs": [],
   "source": [
    "import numpy as np"
   ]
  },
  {
   "cell_type": "code",
   "execution_count": 2,
   "metadata": {},
   "outputs": [
    {
     "name": "stdout",
     "output_type": "stream",
     "text": [
      "[[3810300591          0        100         75         81         35\n",
      "         120         54         40         21        101         30]\n",
      " [3810300590          0         69          8         20         33\n",
      "          35        100        109         14          7         95]\n",
      " [3810300589          1         41         21         76        101\n",
      "         104         81          1         16         12         87]\n",
      " [3810300588          0         99         86        104         72\n",
      "          35         22         44         14         98         32]\n",
      " [3810300587          1         74         17         99        101\n",
      "          44         69         30        114          2         11]\n",
      " [3810300583          0        104         11         15         26\n",
      "         100         50         17          9         93         16]\n",
      " [3810300582          1         44        104          8         35\n",
      "          32         12         20         76         99         11]\n",
      " [3810300573          1         41         22         83         14\n",
      "          59          9         36         35         32         84]\n",
      " [3810300572          0         61         16          1         32\n",
      "          26          7         36         17         99         48]\n",
      " [3810300570          1         14         44          8         84\n",
      "          99         74         75         34          4         22]]\n"
     ]
    }
   ],
   "source": [
    "m = np.loadtxt('dota_old.txt', dtype=int)\n",
    "m = m[: 10]\n",
    "print(m)"
   ]
  },
  {
   "cell_type": "code",
   "execution_count": 3,
   "metadata": {},
   "outputs": [],
   "source": [
    "def compute_synnergy(lines):\n",
    "    matches_pairs = np.zeros((121, 121))\n",
    "    wins_pairs = np.zeros((121, 121)) \n",
    "    wr_pairs = np.zeros((121, 121))\n",
    "\n",
    "    for line in lines:\n",
    "        rad_wins = line[1] == 1\n",
    "        dire_wins = not rad_wins\n",
    "        heroes = line[2:]\n",
    "        rad = heroes[:5]\n",
    "        dire = heroes[5:]\n",
    "\n",
    "        for team in [rad, dire]:\n",
    "            for i in range(5):\n",
    "                hero1 = team[i]\n",
    "                for j in range(5):\n",
    "                    hero2 = team[j]\n",
    "                    matches_pairs[hero1, hero2] += 1\n",
    "\n",
    "                    if rad_wins and hero1 in rad:\n",
    "                        wins_pairs[hero1, hero2] += 1 \n",
    "                    elif dire_wins and hero1 in dire:\n",
    "                        wins_pairs[hero1, hero2] += 1\n",
    "\n",
    "    matches_pairs[matches_pairs == 0] = 1\n",
    "    wr_pairs = wins_pairs / matches_pairs\n",
    "    return wr_pairs"
   ]
  },
  {
   "cell_type": "code",
   "execution_count": 4,
   "metadata": {},
   "outputs": [],
   "source": [
    "def compute_counters(lines):\n",
    "    matches_counter = np.zeros((121, 121))\n",
    "    wins_counter = np.zeros((121, 121)) \n",
    "    wr_counter = np.zeros((121, 121))\n",
    "\n",
    "    for line in lines:\n",
    "        rad_wins = line[1] == 1\n",
    "        dire_wins = not rad_wins\n",
    "        heroes = line[2:]\n",
    "        rad = heroes[:5]\n",
    "        dire = heroes[5:]\n",
    "\n",
    "        #rad first\n",
    "        for hero1 in rad:\n",
    "            for hero2 in dire:\n",
    "                matches_counter[hero1, hero2] += 1\n",
    "                if rad_wins: wins_counter[hero1, hero2] += 1\n",
    "\n",
    "        #dire first\n",
    "        for hero1 in dire:\n",
    "            for hero2 in rad:\n",
    "                matches_counter[hero1, hero2] += 1\n",
    "                if dire_wins: wins_counter[hero1, hero2] += 1\n",
    "\n",
    "\n",
    "    matches_counter[matches_counter == 0] = 1\n",
    "    wr_counter = wins_counter / matches_counter\n",
    "    return wr_counter"
   ]
  },
  {
   "cell_type": "code",
   "execution_count": 5,
   "metadata": {},
   "outputs": [],
   "source": [
    "#np.random.shuffle(m)\n",
    "factor = 0.9\n",
    "train_size = int(len(m) * factor)\n",
    "wr_pairs = compute_synnergy(m[: train_size])\n",
    "wr_counters = compute_counters(m[ : train_size])"
   ]
  },
  {
   "cell_type": "code",
   "execution_count": 19,
   "metadata": {},
   "outputs": [
    {
     "name": "stdout",
     "output_type": "stream",
     "text": [
      "[0. 0. 0. 0. 0. 0. 0. 0. 1. 0. 0. 0. 0. 0. 0. 0. 0. 0. 0. 0. 1. 0. 0. 0.\n",
      " 0. 0. 0. 0. 0. 0. 0. 0. 0. 1. 0. 1. 0. 0. 0. 0. 0. 0. 0. 0. 0. 0. 0. 0.\n",
      " 0. 0. 0. 0. 0. 0. 0. 0. 0. 0. 0. 0. 0. 0. 0. 0. 0. 0. 0. 0. 0. 1. 0. 0.\n",
      " 0. 0. 0. 0. 0. 0. 0. 0. 0. 0. 0. 0. 0. 0. 0. 0. 0. 0. 0. 0. 0. 0. 0. 0.\n",
      " 0. 0. 0. 0. 0. 0. 0. 0. 0. 0. 0. 0. 0. 0. 0. 0. 0. 0. 0. 0. 0. 0. 0. 0.\n",
      " 0.]\n"
     ]
    }
   ],
   "source": [
    "print(wr_counters[100])"
   ]
  },
  {
   "cell_type": "code",
   "execution_count": null,
   "metadata": {},
   "outputs": [],
   "source": [
    "def gen_train_test(lines, valp):\n",
    "    feats = 121 + 55\n",
    "    #feats = 10 + 20 + 25\n",
    "    train_size = int(len(lines) * (1 - valp))\n",
    "    test_size = len(lines) - train_size\n",
    "    data = {'train': {}, 'test': {}}\n",
    "    data['train']['in'] = np.zeros((train_size, feats))\n",
    "    data['train']['out'] = np.zeros((train_size), dtype=int)\n",
    "    data['test']['in'] = np.zeros((test_size, feats))\n",
    "    data['test']['out'] = np.zeros((test_size), dtype=int)\n",
    "    data['test']['lines'] = lines[train_size : ]\n",
    "    data['train']['lines'] = lines[ : train_size]\n",
    "\n",
    "    for kind in ['train', 'test']:\n",
    "        for i in range(len(data[kind]['lines'])):\n",
    "            line = data[kind]['lines'][i]\n",
    "            \n",
    "            inputs = data[kind]['in'][i]\n",
    "        \n",
    "            data[kind]['out'][i] = line[1]\n",
    "            heroes = line[2:]\n",
    "            rad = heroes[:5]\n",
    "            dire = heroes[5:]\n",
    "            \n",
    "            for hero in rad:\n",
    "                inputs[hero] = 1\n",
    "\n",
    "            for hero in dire:\n",
    "                inputs[hero] = -1\n",
    "            \n",
    "            counter = 121\n",
    "\n",
    "            for hero_i in range(5):\n",
    "                for hero_j in range(hero_i, 5):\n",
    "                    inputs[counter] = wr_pairs[rad[hero_i], rad[hero_j]]\n",
    "                    counter += 1\n",
    "\n",
    "            for hero_i in range(5):\n",
    "                for hero_j in range(hero_i, 5):\n",
    "                    inputs[counter] = - wr_pairs[dire[hero_i], dire[hero_j]]\n",
    "                    counter += 1\n",
    "\n",
    "            for hero_i in range(5):\n",
    "                for hero_j in range(5):\n",
    "                    inputs[counter] = wr_counters[rad[hero_i], dire[hero_j]]\n",
    "                    counter += 1\n",
    "                    \n",
    "    return data"
   ]
  },
  {
   "cell_type": "code",
   "execution_count": null,
   "metadata": {},
   "outputs": [],
   "source": [
    "data = gen_train_test(m, 0.1)\n",
    "print(data['train']['in'][0])"
   ]
  },
  {
   "cell_type": "code",
   "execution_count": null,
   "metadata": {},
   "outputs": [],
   "source": [
    "import keras\n",
    "from keras.models import Sequential\n",
    "from keras.layers import Dense, Dropout, Activation\n",
    "from keras.optimizers import SGD, Adagrad, Adam\n",
    "from keras import regularizers\n",
    "\n",
    "model = Sequential()\n",
    "\n",
    "model.add(Dense(100000, activation='relu', input_dim=len(data['train']['in'][0])))\n",
    "model.add(Dropout(0.5))\n",
    "model.add(Dense(100, activation='relu'))\n",
    "model.add(Dropout(0.5))\n",
    "model.add(Dense(100, activation='relu'))\n",
    "model.add(Dropout(0.5))\n",
    "model.add(Dense(1, activation='sigmoid'))\n",
    "\n",
    "sgd = SGD(lr=0.05)\n",
    "model.compile(loss='binary_crossentropy',\n",
    "              optimizer=Adam(lr=0.0001, beta_1=0.9, beta_2=0.999, epsilon=None, decay=0.0, amsgrad=False),\n",
    "              #optimizer='adadelta',\n",
    "              #optimizer=sgd,\n",
    "              metrics=['binary_accuracy'])\n",
    "\n",
    "model.fit(data['train']['in'], data['train']['out'],\n",
    "          epochs=100,\n",
    "          validation_data=(data['test']['in'], data['test']['out']))\n",
    "\n",
    "result = model.evaluate(data['test']['in'], data['test']['out'])\n",
    "\n",
    "print(result[1])"
   ]
  },
  {
   "cell_type": "code",
   "execution_count": null,
   "metadata": {},
   "outputs": [],
   "source": [
    "from sklearn.ensemble import RandomForestClassifier\n",
    "\n",
    "clf = RandomForestClassifier(n_estimators=500, max_features=11, min_samples_split=2, max_depth=None, n_jobs=8)\n",
    "clf = clf.fit(data['train']['in'], data['train']['out'])\n",
    "clf_forest = clf"
   ]
  },
  {
   "cell_type": "code",
   "execution_count": null,
   "metadata": {},
   "outputs": [],
   "source": [
    "from sklearn.linear_model import LogisticRegression\n",
    "\n",
    "clf = LogisticRegression()\n",
    "clf = clf.fit(data['train']['in'], data['train']['out'])\n",
    "clf_log = clf"
   ]
  },
  {
   "cell_type": "code",
   "execution_count": null,
   "metadata": {},
   "outputs": [],
   "source": [
    "from sklearn import neighbors\n",
    "\n",
    "clf = neighbors.KNeighborsClassifier(5, weights='uniform')\n",
    "clf = clf.fit(data['train']['in'], data['train']['out'])"
   ]
  },
  {
   "cell_type": "code",
   "execution_count": null,
   "metadata": {},
   "outputs": [],
   "source": [
    "print()\n",
    "# from sklearn import svm\n",
    "# clf = svm.SVC()\n",
    "# clf.fit(data['train']['in'], data['train']['out'])  "
   ]
  },
  {
   "cell_type": "code",
   "execution_count": null,
   "metadata": {},
   "outputs": [],
   "source": [
    "from sklearn.ensemble import AdaBoostClassifier\n",
    "clf = AdaBoostClassifier(n_estimators=10000)\n",
    "clf = clf.fit(data['train']['in'], data['train']['out'])"
   ]
  },
  {
   "cell_type": "code",
   "execution_count": null,
   "metadata": {},
   "outputs": [],
   "source": [
    "from sklearn.naive_bayes import GaussianNB\n",
    "clf = GaussianNB()\n",
    "clf = clf.fit(data['train']['in'], data['train']['out'])\n",
    "clf_naive = clf"
   ]
  },
  {
   "cell_type": "code",
   "execution_count": null,
   "metadata": {},
   "outputs": [],
   "source": [
    "from sklearn.ensemble import GradientBoostingClassifier\n",
    "clf = GradientBoostingClassifier(n_estimators=2000, learning_rate=1.0, max_depth=1, random_state=0)\n",
    "clf = clf.fit(data['train']['in'], data['train']['out'])"
   ]
  },
  {
   "cell_type": "code",
   "execution_count": null,
   "metadata": {},
   "outputs": [],
   "source": [
    "from sklearn.ensemble import BaggingClassifier\n",
    "from sklearn.neighbors import KNeighborsClassifier\n",
    "from sklearn.linear_model import LogisticRegression\n",
    "\n",
    "clf = BaggingClassifier(LogisticRegression(),\n",
    "                             max_samples=0.5, max_features=0.5)\n",
    "clf = clf.fit(data['train']['in'], data['train']['out'])"
   ]
  },
  {
   "cell_type": "code",
   "execution_count": null,
   "metadata": {},
   "outputs": [],
   "source": [
    "from sklearn.ensemble import VotingClassifier\n",
    "\n",
    "clf = VotingClassifier(estimators=[('for', clf_forest), ('naive', clf_naive), ('log', clf_log)], voting='soft', weights=[1,2,2])\n",
    "clf = clf.fit(data['train']['in'], data['train']['out'])"
   ]
  },
  {
   "cell_type": "code",
   "execution_count": null,
   "metadata": {},
   "outputs": [],
   "source": [
    "#print('oi')\n",
    "model = clf\n",
    "preds = model.predict(data['test']['in'])\n",
    "correct = data['test']['out']\n",
    "\n",
    "eq = 0\n",
    "\n",
    "wrong = []\n",
    "\n",
    "for i in range(len(preds)):\n",
    "    if correct[i] == preds[i]:\n",
    "        eq += 1\n",
    "    else:\n",
    "        wrong.append(i)\n",
    "        \n",
    "print(eq / len(preds))"
   ]
  },
  {
   "cell_type": "code",
   "execution_count": null,
   "metadata": {},
   "outputs": [],
   "source": [
    "wrong_forest = wrong"
   ]
  },
  {
   "cell_type": "code",
   "execution_count": null,
   "metadata": {},
   "outputs": [],
   "source": [
    "print(wrong_log)\n",
    "print(wrong_naive)\n",
    "print(wrong_forest)"
   ]
  }
 ],
 "metadata": {
  "kernelspec": {
   "display_name": "Python 3",
   "language": "python",
   "name": "python3"
  },
  "language_info": {
   "codemirror_mode": {
    "name": "ipython",
    "version": 3
   },
   "file_extension": ".py",
   "mimetype": "text/x-python",
   "name": "python",
   "nbconvert_exporter": "python",
   "pygments_lexer": "ipython3",
   "version": "3.6.5"
  }
 },
 "nbformat": 4,
 "nbformat_minor": 2
}
