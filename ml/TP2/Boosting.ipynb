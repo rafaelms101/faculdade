{
 "cells": [
  {
   "cell_type": "code",
   "execution_count": 138,
   "metadata": {},
   "outputs": [],
   "source": [
    "#TODO: what if the error is 0????\n",
    "\n",
    "import math\n",
    "\n",
    "def gen_stumps(inputs, outputs):\n",
    "    stumps = [] \n",
    "    \n",
    "    #first we identify which values are possible\n",
    "    for attr in range(len(inputs[0])):\n",
    "        stumps.append({})\n",
    "        for line in inputs:\n",
    "            value = line[attr]\n",
    "            stumps[attr][value] = []\n",
    "    \n",
    "    #now we generate the stumps\n",
    "    for (attr, stump) in enumerate(stumps):\n",
    "        for (category, wrong_elements) in stump.items():\n",
    "            for (i, line) in enumerate(inputs):\n",
    "                if category == line[attr] and outputs[i] == -1 or category != line[attr] and outputs[i] == 1:\n",
    "                    wrong_elements.append(i)\n",
    "                    \n",
    "    #extra stump to represent when everything is considered 1 or everything is considered -1\n",
    "    extra_stump = {-1: [], 1: []}\n",
    "    for (i, output) in enumerate(outputs):\n",
    "        extra_stump[1 if output == -1 else -1].append(i)\n",
    "    \n",
    "    stumps.append(extra_stump)\n",
    "    \n",
    "    return stumps\n",
    "\n",
    "def boosting(inputs, outputs, num_iters):\n",
    "    model = {}\n",
    "    stumps = gen_stumps(inputs, outputs)\n",
    "    \n",
    "    weights = [1 / len(inputs)] * len(inputs)\n",
    "    \n",
    "    for i in range(num_iters):\n",
    "        alpha, stump = boost_round(stumps, weights)\n",
    "        model[stump] = model.get(stump, 0) + alpha\n",
    "    \n",
    "    return model\n",
    "\n",
    "def compute_accuracy(model, inputs, outputs):\n",
    "    correct = 0\n",
    "    for i, input in enumerate(inputs):\n",
    "        pred = predict(model, input)\n",
    "        if pred == outputs[i]: correct += 1\n",
    "    return correct / len(inputs)\n",
    "\n",
    "def predict(model, input):\n",
    "    constant_attr = len(input)\n",
    "    result = 0\n",
    "    for (attribute, value), alpha in model.items():\n",
    "        attr_value = input[attribute] if attribute != constant_attr else 1\n",
    "        result += alpha * (1 if  attr_value == value else -1)\n",
    "    return 1 if result > 0 else -1\n",
    "\n",
    "def boost_round(stumps, weights):\n",
    "    best_error = 1000 #this is correct, since the max total error is 1\n",
    "    best_stump = None\n",
    "    wrongs = []\n",
    "    \n",
    "    for attribute, categories in enumerate(stumps):\n",
    "        for (category_value, wrong_elements) in categories.items():\n",
    "            error = 0\n",
    "            for id in wrong_elements:\n",
    "                error += weights[id]\n",
    "            if error < best_error:\n",
    "                best_error = error\n",
    "                best_stump = (attribute, category_value)\n",
    "                wrongs = wrong_elements\n",
    "    \n",
    "    alpha = 1/2 * math.log((1 - best_error) / best_error)\n",
    "    \n",
    "    sum = 0\n",
    "    for i, wold in enumerate(weights):\n",
    "        factor = -1 if i in wrongs else 1\n",
    "        wnew = wold * math.exp(-alpha * factor)\n",
    "        weights[i] = wnew\n",
    "        sum += wnew\n",
    "    \n",
    "    for i, weight in enumerate(weights):\n",
    "        weights[i] = weight / sum\n",
    "        \n",
    "    return (alpha, best_stump)"
   ]
  },
  {
   "cell_type": "code",
   "execution_count": 147,
   "metadata": {},
   "outputs": [
    {
     "name": "stdout",
     "output_type": "stream",
     "text": [
      "0.7395833333333334\n"
     ]
    }
   ],
   "source": [
    "from numpy import genfromtxt\n",
    "\n",
    "data = genfromtxt('tic-tac-toe.data.txt', delimiter=',', dtype=object)\n",
    "random.shuffle(data)\n",
    "inputs = data[:,:-1]\n",
    "raw_outputs = data[:, -1:]\n",
    "outputs = [1 if output == b'positive' else -1 for [output] in raw_outputs]\n",
    "\n",
    "train_size = int(len(inputs) * 0.9)\n",
    "train_in = inputs[:train_size]\n",
    "train_out = outputs[:train_size] \n",
    "test_in = inputs[train_size:]\n",
    "test_out = outputs[train_size:] \n",
    "\n",
    "model = boosting(train_in, train_out, 100)\n",
    "acc = compute_accuracy(model, test_in, test_out)\n",
    "print(acc)"
   ]
  },
  {
   "cell_type": "code",
   "execution_count": 50,
   "metadata": {},
   "outputs": [
    {
     "name": "stdout",
     "output_type": "stream",
     "text": [
      "[(0.6931471805599453, (2, 1)), (0.5493061443340549, (0, 1)), (0.44365159750045147, (1, 1)), (0.4789198673935139, (3, 1)), (0.326685164116977, (0, 1)), (0.3965487794884476, (2, 1)), (0.2809449421468505, (0, 1)), (0.45256905194069447, (1, 1)), (0.30705657427613087, (0, 1)), (0.2806296440908112, (2, 1))]\n",
      "0.9\n"
     ]
    }
   ],
   "source": [
    "outputs = [1,1,1,1,1,1,1,-1,-1,-1]\n",
    "inputs = [[0,1,1], [1,1,1], [1, 0, 0], [1,0,1], [1,0,1], [0,1,1], [0,1,1], \n",
    "              [0,1,0], [1,0,0], [0,0,1]]\n",
    "\n",
    "model = boosting(inputs, outputs, 10)\n",
    "print(model)\n",
    "acc = compute_accuracy(model, inputs, outputs)\n",
    "print(acc)"
   ]
  }
 ],
 "metadata": {
  "kernelspec": {
   "display_name": "Python 3",
   "language": "python",
   "name": "python3"
  },
  "language_info": {
   "codemirror_mode": {
    "name": "ipython",
    "version": 3
   },
   "file_extension": ".py",
   "mimetype": "text/x-python",
   "name": "python",
   "nbconvert_exporter": "python",
   "pygments_lexer": "ipython3",
   "version": "3.6.5"
  }
 },
 "nbformat": 4,
 "nbformat_minor": 2
}
