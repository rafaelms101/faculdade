{
 "cells": [
  {
   "cell_type": "code",
   "execution_count": 16,
   "metadata": {},
   "outputs": [
    {
     "name": "stdout",
     "output_type": "stream",
     "text": [
      "(0.6931471805599453, (2, 'Y'))\n",
      "[0.0, 0.0625, 0.0625, 0.25, 0.0625, 0.0625, 0.0625, 0.0625, 0.0625, 0.0625, 0.25]\n",
      "(0.5493061443340549, (0, 'Y'))\n",
      "[0.0, 0.125, 0.041666666666666664, 0.16666666666666666, 0.041666666666666664, 0.041666666666666664, 0.125, 0.125, 0.041666666666666664, 0.125, 0.16666666666666666]\n",
      "(0.44365159750045147, (1, 'Y'))\n",
      "[0.0, 0.08823529411764705, 0.02941176470588235, 0.2857142857142857, 0.07142857142857142, 0.07142857142857142, 0.08823529411764705, 0.08823529411764705, 0.07142857142857142, 0.08823529411764705, 0.1176470588235294]\n"
     ]
    }
   ],
   "source": [
    "import math\n",
    "\n",
    "def boosting(inputs, outputs, num_iters):\n",
    "    pass\n",
    "\n",
    "#attributes: evil, transforms, sparkly, TRUE, FALSE\n",
    "stumps = [{'Y': [1, 6, 7, 9], 'N': [2, 3, 4, 5, 8, 10]}, \n",
    "                 {'Y': [3,4,5,8], 'N': [1,2,6,7,9,10]},\n",
    "                 {'Y': [3, 10], 'N': [1,2,4,5,6,7,8,9]}, \n",
    "                 {'Y': [8,9,10], 'N': [1,2,3,4,5,6,7]}]\n",
    "\n",
    "def boost_round(stumps, weights):\n",
    "    best_error = 1000 #this is correct, since the max total error is 1\n",
    "    best_stump = None\n",
    "    wrongs = []\n",
    "    \n",
    "    for (attribute, categories) in enumerate(stumps):\n",
    "        for (category_value, wrong_elements) in categories.items():\n",
    "            error = 0\n",
    "            for id in wrong_elements:\n",
    "                error += weights[id]\n",
    "            if error < best_error:\n",
    "                best_error = error\n",
    "                best_stump = (attribute, category_value)\n",
    "                wrongs = wrong_elements\n",
    "    \n",
    "    alpha = 1/2 * math.log((1 - best_error) / best_error)\n",
    "    \n",
    "    sum = 0\n",
    "    for (i, wold) in enumerate(weights):\n",
    "        #if i == 0: continue\n",
    "        factor = -1 if i in wrongs else 1\n",
    "        wnew = wold * math.exp(-alpha * factor)\n",
    "        weights[i] = wnew\n",
    "        sum += wnew\n",
    "    \n",
    "    for (i, weight) in enumerate(weights):\n",
    "        weights[i] = weight / sum\n",
    "        \n",
    "    return (alpha, best_stump)\n",
    "          \n",
    "weights = [0, 0.1, 0.1, 0.1, 0.1, 0.1, 0.1, 0.1, 0.1, 0.1, 0.1]\n",
    "res = boost_round(stumps, weights) \n",
    "print(res)\n",
    "print(weights)\n",
    "res = boost_round(stumps, weights) \n",
    "print(res)\n",
    "print(weights)\n",
    "res = boost_round(stumps, weights) \n",
    "print(res)\n",
    "print(weights)"
   ]
  }
 ],
 "metadata": {
  "kernelspec": {
   "display_name": "Python 3",
   "language": "python",
   "name": "python3"
  },
  "language_info": {
   "codemirror_mode": {
    "name": "ipython",
    "version": 3
   },
   "file_extension": ".py",
   "mimetype": "text/x-python",
   "name": "python",
   "nbconvert_exporter": "python",
   "pygments_lexer": "ipython3",
   "version": "3.6.4"
  }
 },
 "nbformat": 4,
 "nbformat_minor": 2
}
