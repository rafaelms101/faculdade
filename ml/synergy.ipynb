{
 "cells": [
  {
   "cell_type": "markdown",
   "metadata": {},
   "source": [
    "# Задача предсказания победителя в онлайн-игре DOTA 2"
   ]
  },
  {
   "cell_type": "markdown",
   "metadata": {},
   "source": [
    "## Проверка гипотезы о влиянии синергии персонажей на качество модели"
   ]
  },
  {
   "cell_type": "markdown",
   "metadata": {},
   "source": [
    "Евгений Колонский, ekolonsky@gmail.com"
   ]
  },
  {
   "cell_type": "markdown",
   "metadata": {},
   "source": [
    "При постановке и решении задачи предсказания победителя в игре DOTA 2 часто принимается как факт, что состав команд (пять персонажей команды светлых против пяти персонажей команды темных) существенно влияет на результат игры. (см., например, работы [1], [2], [3]). Считается, что мощь удачно подобранной команды больше суммы сил отдельных персонажей. Этот эффект называется синергией. На гипотезе синергии строятся алгоритмы, предсказывающие результат игры до ее начала, на основании только состава команд светлых и темных.\n"
   ]
  },
  {
   "cell_type": "markdown",
   "metadata": {},
   "source": [
    "[1] http://cs229.stanford.edu/proj2013/PerryConley-HowDoesHeSawMeARecommendationEngineForPickingHeroesInDota2.pdf\n",
    "\n",
    "[2] http://cseweb.ucsd.edu/~jmcauley/cse255/reports/wi15/Kaushik_Kalyanaraman.pdf\n",
    "\n",
    "[3] http://cseweb.ucsd.edu/~jmcauley/cse255/reports/fa15/018.pdf\n",
    "    "
   ]
  },
  {
   "cell_type": "markdown",
   "metadata": {},
   "source": [
    "Попробуем проверить гипотезу о синергии. Если она верна, то чем сильнее совпадение состава команд в двух независимых играх, тем больше шансов совпадения результата игры."
   ]
  },
  {
   "cell_type": "code",
   "execution_count": 1,
   "metadata": {
    "collapsed": true
   },
   "outputs": [],
   "source": [
    "import pandas as pd\n",
    "import numpy as np "
   ]
  },
  {
   "cell_type": "markdown",
   "metadata": {},
   "source": [
    "### Загрузка данных"
   ]
  },
  {
   "cell_type": "code",
   "execution_count": 2,
   "metadata": {
    "collapsed": true
   },
   "outputs": [],
   "source": [
    "data = pd.read_csv('features.csv', index_col='match_id')\n",
    "n_samples = data.shape[0]\n",
    "\n",
    "\n",
    "Y = data['radiant_win']\n",
    "\n",
    "# y = array of +1 when r win and -1 when d win\n",
    "y = map(lambda x: -1 if x==0 else 1, Y.values)\n",
    "y = np.array(y)"
   ]
  },
  {
   "cell_type": "markdown",
   "metadata": {},
   "source": [
    "### Схожесть, расстояние"
   ]
  },
  {
   "cell_type": "markdown",
   "metadata": {},
   "source": [
    "Степень совпадения состава (\"схожесть\") команд в матчах $i$ и $j$ измеряется целым числом от 0 до 10. Схожесть равна 10 при полном совпадении команд (пять светлых и пять темных игры $i$ совпали с составом команд игры $j$), и нулю при полном несовпадении. Понятие схожести здесь обратно понятию расстояния: чем ближе матчи друг к другу по составу команд, тем больше схожесть и меньше \"расстояние\".\n"
   ]
  },
  {
   "cell_type": "markdown",
   "metadata": {},
   "source": [
    "Воспользуемся тем, что количество возможных персонажей $N=113$ меньше 128, количества бит в длинном целом.\n",
    "Будем кодировать состав команды единичными битами в 128-битном целом числе."
   ]
  },
  {
   "cell_type": "code",
   "execution_count": 3,
   "metadata": {
    "collapsed": true
   },
   "outputs": [],
   "source": [
    "# rbit, dbit - массивы, кодирующие составы команд Radiant и Dire.\n",
    "rbit = [0L] * (n_samples)\n",
    "dbit = [0L] * (n_samples)\n",
    "\n",
    "for i, match_id in enumerate(data.index):\n",
    "    for player_ind in ['1','2','3','4','5']:\n",
    "\n",
    "        hero_ind = int(data.ix[match_id, 'r'+player_ind+'_hero'])\n",
    "        rbit[i] += 1L << hero_ind\n",
    "\n",
    "        hero_ind = int(data.ix[match_id, 'd'+player_ind+'_hero'])\n",
    "        dbit[i] += 1L << hero_ind\n"
   ]
  },
  {
   "cell_type": "code",
   "execution_count": 4,
   "metadata": {
    "collapsed": true
   },
   "outputs": [],
   "source": [
    "def bitCount(int_type):\n",
    "    \"\"\" подсчет количества единиц в двоичном числе\"\"\"\n",
    "    count = 0\n",
    "    while(int_type):\n",
    "        int_type &= int_type - 1\n",
    "        count += 1\n",
    "    return(count)\n",
    "\n",
    "def similarity(i,j):\n",
    "    \"\"\" схожесть команд в i и j игре:\n",
    "        возвращает целое число от 0 (нет совпадений)\n",
    "        до 10 (полное совпадение).\n",
    "        второй ответ для зеркального случая\n",
    "        когда когда в матче $j$ команды меняются местами.\"\"\"\n",
    "    if i == j:\n",
    "        return 0, 0\n",
    "    # прямое сравнение составов команд\n",
    "    simA = bitCount(rbit[i] & rbit[j]) + bitCount(dbit[i] & dbit[j])\n",
    "    # зеркало - в j матче светлые и темные поменялись друг с другом\n",
    "    simB = bitCount(rbit[i] & dbit[j]) + bitCount(dbit[i] & rbit[j])    \n",
    "    return simA, simB\n"
   ]
  },
  {
   "cell_type": "markdown",
   "metadata": {},
   "source": [
    "## Идея проверки"
   ]
  },
  {
   "cell_type": "markdown",
   "metadata": {},
   "source": [
    "Идея проверки в следующем.\n",
    "\n",
    "Переберем все пары матчей $i=1..n$ и $j=1..n$ обучающей выборки.  $n=97230$ - объем обучающей выборки, \n",
    "Для каждой пары вычислим схожесть $similarity(i,j)=0..10$  и совпадение результата игры $y_i = y_j$.\n",
    "\n",
    "Будем накапливать счетчики: сколько пар матчей имеют определенную схожесть, и у скольки из них совпали результаты. Таким образом, для каждого уровня схожести $l=0..10$ будет получена  метрика выброчной вероятности совпадения результатов игры $p_l$ как отношение счетчика совпадений результатов к счетчику пар.\n",
    "\n",
    "Для более полной утилизации результатов будем считать, что для каждого матча существует \"зеркальный\" ему матч, в котором команды светлых и темных поменялись местами, а  результат зеркального совпадает с точностью до знака с результатом основного матча."
   ]
  },
  {
   "cell_type": "code",
   "execution_count": null,
   "metadata": {
    "collapsed": true
   },
   "outputs": [],
   "source": [
    "# Этот расчет идет несколько часов, лучше оставить на его считать на ночь..\n",
    "# .. или перейти к следуюшей ячейке и загрузить готовый результат\n",
    "\n",
    "counter = [0L] * 11 # счетчики пар матчей\n",
    "confirm = [0L] * 11 # счетчики совпадения результатов пары матчей\n",
    "\n",
    "for i in xrange(n_samples):\n",
    "\n",
    "    for j in xrange(i+1, n_samples):\n",
    "        levelA, levelB = similarity(i,j)\n",
    "        counter[levelA] += 1\n",
    "        if y[i] == y[j]:\n",
    "            confirm[levelA] += 1\n",
    "        counter[levelB] += 1\n",
    "        if y[i] == -y[j]:\n",
    "                confirm[levelB] += 1\n",
    "\n",
    "    if i % 100 == 0:\n",
    "        print 'Processed %d' %i\n",
    "        print 'counter ', counter\n",
    "        print 'confirm ', confirm \n",
    "\n",
    "np.save('counter', counter)\n",
    "np.save('confirm', confirm)"
   ]
  },
  {
   "cell_type": "code",
   "execution_count": 12,
   "metadata": {
    "collapsed": false
   },
   "outputs": [],
   "source": [
    "# .. загрузить результат \n",
    "counter = np.load('counter.npy')\n",
    "confirm = np.load('confirm.npy')"
   ]
  },
  {
   "cell_type": "code",
   "execution_count": 13,
   "metadata": {
    "collapsed": false
   },
   "outputs": [
    {
     "name": "stdout",
     "output_type": "stream",
     "text": [
      "9.97559610481\n"
     ]
    }
   ],
   "source": [
    "print np.log10(sum(counter)) # примерно 10^10 записей. Точно n*(n-1)"
   ]
  },
  {
   "cell_type": "code",
   "execution_count": 14,
   "metadata": {
    "collapsed": false
   },
   "outputs": [
    {
     "name": "stdout",
     "output_type": "stream",
     "text": [
      "[3592498889 3562654304 1676459310  499164010  104770310   16085070\n",
      "    1795592     140764       7161        257          3]\n",
      "[1791789474 1781469259  840516904  250999809   52868221    8153288\n",
      "     914626      72443       3680        129          2]\n"
     ]
    }
   ],
   "source": [
    "print counter\n",
    "print confirm"
   ]
  },
  {
   "cell_type": "code",
   "execution_count": 15,
   "metadata": {
    "collapsed": true
   },
   "outputs": [],
   "source": [
    "# Доверительные интервалы для среднего\n",
    "from statsmodels.stats.proportion import proportion_confint"
   ]
  },
  {
   "cell_type": "code",
   "execution_count": 16,
   "metadata": {
    "collapsed": false
   },
   "outputs": [
    {
     "name": "stdout",
     "output_type": "stream",
     "text": [
      "(0.4987421825076917, 0.4987748825586959) 3592498889 0\n",
      "(0.50002346954063803, 0.50005630637233067) 3562654304 1\n",
      "(0.50134039888208237, 0.50138826739823306) 1676459310 2\n",
      "(0.50279649489494338, 0.50288421910160019) 499164010 3\n",
      "(0.50451497729768024, 0.50470645160308614) 104770310 4\n",
      "(0.50664112818092877, 0.50712977534014014) 16085070 5\n",
      "(0.50864173108622135, 0.51010413545168121) 1795592 6\n",
      "(0.51203028910384796, 0.51725196710809973) 140764 7\n",
      "(0.50231422622374056, 0.52546028925489696) 7161 8\n",
      "(0.44123953149933781, 0.56259421488638317) 257 9\n",
      "(0.20765960080204771, 0.93850805527960368) 3 10\n"
     ]
    }
   ],
   "source": [
    "for i in range(11):\n",
    "    print proportion_confint(confirm[i], counter[i], method='wilson'), counter[i], i\n"
   ]
  },
  {
   "cell_type": "code",
   "execution_count": 18,
   "metadata": {
    "collapsed": false
   },
   "outputs": [
    {
     "name": "stdout",
     "output_type": "stream",
     "text": [
      "0.243127315762\n"
     ]
    }
   ],
   "source": [
    "# Доля пар матчей со степнью совпадения 2 и больше\n",
    "print float(sum(counter[2:])) / sum(counter)"
   ]
  },
  {
   "cell_type": "code",
   "execution_count": 20,
   "metadata": {
    "collapsed": false
   },
   "outputs": [
    {
     "name": "stdout",
     "output_type": "stream",
     "text": [
      "0.00187862046391\n"
     ]
    }
   ],
   "source": [
    "# средний эффект от синергии уровня 2 и выше\n",
    "print float(sum(confirm[2:])) / sum(counter[2:]) - 0.5"
   ]
  },
  {
   "cell_type": "markdown",
   "metadata": {},
   "source": [
    "# Выводы"
   ]
  },
  {
   "cell_type": "markdown",
   "metadata": {},
   "source": [
    "### 1.  Синергия уровня 2 и больше встречается в ~25% случаев"
   ]
  },
  {
   "cell_type": "markdown",
   "metadata": {},
   "source": [
    "### 2. Средний эффект от синергии уровня 2 и выше ~0.2%"
   ]
  },
  {
   "cell_type": "markdown",
   "metadata": {},
   "source": [
    "### 3. Верхняя граница довер. интервала синергии уровня 8: ~ 2.5%"
   ]
  },
  {
   "cell_type": "markdown",
   "metadata": {},
   "source": [
    "## Влияние синергии на результат незначительно"
   ]
  },
  {
   "cell_type": "code",
   "execution_count": null,
   "metadata": {
    "collapsed": true
   },
   "outputs": [],
   "source": []
  }
 ],
 "metadata": {
  "kernelspec": {
   "display_name": "Python 2",
   "language": "python",
   "name": "python2"
  },
  "language_info": {
   "codemirror_mode": {
    "name": "ipython",
    "version": 2
   },
   "file_extension": ".py",
   "mimetype": "text/x-python",
   "name": "python",
   "nbconvert_exporter": "python",
   "pygments_lexer": "ipython2",
   "version": "2.7.11"
  }
 },
 "nbformat": 4,
 "nbformat_minor": 0
}
